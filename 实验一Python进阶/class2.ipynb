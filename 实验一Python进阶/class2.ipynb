{
 "cells": [
  {
   "cell_type": "markdown",
   "metadata": {},
   "source": [
    "# Numpy 基础教程"
   ]
  },
  {
   "cell_type": "markdown",
   "metadata": {},
   "source": [
    "## 为什么需要Numpy?"
   ]
  },
  {
   "cell_type": "markdown",
   "metadata": {},
   "source": [
    "- 向量化操作，编程更加简单\n",
    "- 扩充了List 的基本功能，如[:,index], a[a>10]\n",
    "- 对于向量与矩阵的运算，底层通过CPP算法优化，运行效率更快"
   ]
  },
  {
   "cell_type": "markdown",
   "metadata": {},
   "source": [
    "## Ndarray对象 (n-dimension array)"
   ]
  },
  {
   "cell_type": "markdown",
   "metadata": {},
   "source": [
    "- ndarray对象是封装过后的list列表对象\n",
    "- ndarray对象与Python原生的list列表的区别在于\n",
    "  - ndarray对象的元素必须是同类型，全是数值、字符串或对象\n",
    "  - ndarray对象支持向量化运算以及更便捷的数据操作\n",
    "  - ndarray对象经过底层算法优化，速度快\n",
    "  - ndarray对象是Python科学计算领域的基石"
   ]
  },
  {
   "cell_type": "markdown",
   "metadata": {},
   "source": [
    "## 创建Ndarray对象"
   ]
  },
  {
   "cell_type": "markdown",
   "metadata": {},
   "source": [
    "### 由列表创建"
   ]
  },
  {
   "cell_type": "code",
   "execution_count": 3,
   "metadata": {},
   "outputs": [
    {
     "name": "stdout",
     "output_type": "stream",
     "text": [
      "<class 'list'>\n",
      "<class 'numpy.ndarray'>\n"
     ]
    }
   ],
   "source": [
    "data = [1,2,3,4,5]\n",
    "print(type(data))\n",
    "import numpy as np\n",
    "data = np.array(data)\n",
    "print(type(data))"
   ]
  },
  {
   "cell_type": "markdown",
   "metadata": {},
   "source": [
    "### 生成特定序列"
   ]
  },
  {
   "cell_type": "code",
   "execution_count": 4,
   "metadata": {},
   "outputs": [
    {
     "name": "stdout",
     "output_type": "stream",
     "text": [
      "[10 11 12 13 14 15 16 17 18 19]\n"
     ]
    }
   ],
   "source": [
    "x = np.arange(10, 20, 1)\n",
    "print(x)"
   ]
  },
  {
   "cell_type": "code",
   "execution_count": 9,
   "metadata": {},
   "outputs": [
    {
     "name": "stdout",
     "output_type": "stream",
     "text": [
      "[10. 11. 12. 13. 14. 15. 16. 17. 18. 19.]\n"
     ]
    }
   ],
   "source": [
    "x = np.linspace(10, 19, 10)\n",
    "print(x)"
   ]
  },
  {
   "cell_type": "markdown",
   "metadata": {},
   "source": [
    "### 生成多维数组"
   ]
  },
  {
   "cell_type": "code",
   "execution_count": 10,
   "metadata": {},
   "outputs": [
    {
     "name": "stdout",
     "output_type": "stream",
     "text": [
      "[[1 2]\n",
      " [2 1]\n",
      " [3 3]]\n"
     ]
    }
   ],
   "source": [
    "x = [[1,2],[2,1],[3,3]]\n",
    "x = np.array(x)\n",
    "print(x)"
   ]
  },
  {
   "cell_type": "code",
   "execution_count": 11,
   "metadata": {},
   "outputs": [
    {
     "name": "stdout",
     "output_type": "stream",
     "text": [
      "[[0. 0. 0.]\n",
      " [0. 0. 0.]\n",
      " [0. 0. 0.]]\n"
     ]
    }
   ],
   "source": [
    "x = np.zeros((3,3))\n",
    "print(x)"
   ]
  },
  {
   "cell_type": "code",
   "execution_count": 12,
   "metadata": {},
   "outputs": [
    {
     "name": "stdout",
     "output_type": "stream",
     "text": [
      "[[[0. 0. 0.]\n",
      "  [0. 0. 0.]\n",
      "  [0. 0. 0.]]\n",
      "\n",
      " [[0. 0. 0.]\n",
      "  [0. 0. 0.]\n",
      "  [0. 0. 0.]]\n",
      "\n",
      " [[0. 0. 0.]\n",
      "  [0. 0. 0.]\n",
      "  [0. 0. 0.]]]\n"
     ]
    }
   ],
   "source": [
    "x = np.zeros((3,3,3))\n",
    "print(x)"
   ]
  },
  {
   "cell_type": "code",
   "execution_count": 14,
   "metadata": {},
   "outputs": [
    {
     "name": "stdout",
     "output_type": "stream",
     "text": [
      "[[1. 1. 1. 1. 1.]\n",
      " [1. 1. 1. 1. 1.]\n",
      " [1. 1. 1. 1. 1.]]\n"
     ]
    }
   ],
   "source": [
    "x = np.ones((3,5))\n",
    "print(x)"
   ]
  },
  {
   "cell_type": "code",
   "execution_count": 17,
   "metadata": {},
   "outputs": [
    {
     "name": "stdout",
     "output_type": "stream",
     "text": [
      "[[1. 0. 0.]\n",
      " [0. 1. 0.]\n",
      " [0. 0. 1.]]\n"
     ]
    }
   ],
   "source": [
    "x = np.eye(3,3)\n",
    "print(x)"
   ]
  },
  {
   "cell_type": "code",
   "execution_count": 18,
   "metadata": {},
   "outputs": [
    {
     "name": "stdout",
     "output_type": "stream",
     "text": [
      "[[0.97055975 0.27204919 0.42134443 0.89135736 0.1068979 ]\n",
      " [0.6090846  0.05051459 0.3017772  0.65262865 0.36001728]\n",
      " [0.12364218 0.59985068 0.28826965 0.44076935 0.14295756]\n",
      " [0.166454   0.01261358 0.34350451 0.16251287 0.2693441 ]\n",
      " [0.20121743 0.14070173 0.75580108 0.73987834 0.82384269]]\n"
     ]
    }
   ],
   "source": [
    "x = np.random.random((5,5))\n",
    "print(x)"
   ]
  },
  {
   "cell_type": "markdown",
   "metadata": {},
   "source": [
    "### 查看数据的维度与尺寸"
   ]
  },
  {
   "cell_type": "code",
   "execution_count": 25,
   "metadata": {},
   "outputs": [
    {
     "name": "stdout",
     "output_type": "stream",
     "text": [
      "shape:(5, 5)\n",
      "dimension:2\n",
      "type:float64\n",
      "item size:8\n",
      "total size:200\n"
     ]
    }
   ],
   "source": [
    "x = np.random.random((5,5))\n",
    "print(f\"shape:{x.shape}\")\n",
    "print(f\"dimension:{x.ndim}\")\n",
    "print(f\"type:{x.dtype}\")\n",
    "print(f\"item size:{x.itemsize}\")\n",
    "print(f\"total size:{x.nbytes}\")"
   ]
  },
  {
   "cell_type": "markdown",
   "metadata": {},
   "source": [
    "### 随机数生成"
   ]
  },
  {
   "cell_type": "code",
   "execution_count": 27,
   "metadata": {},
   "outputs": [
    {
     "name": "stdout",
     "output_type": "stream",
     "text": [
      "[[0.5767288  0.82586158 0.96672993]\n",
      " [0.35584827 0.04155186 0.324823  ]\n",
      " [0.75157207 0.70833289 0.88318195]]\n"
     ]
    }
   ],
   "source": [
    "# 生成0-1的随机数组，均匀分布\n",
    "x = np.random.random((3,3))\n",
    "print(x)"
   ]
  },
  {
   "cell_type": "code",
   "execution_count": 28,
   "metadata": {},
   "outputs": [
    {
     "name": "stdout",
     "output_type": "stream",
     "text": [
      "[[66 83 54  7 90]\n",
      " [87 72 66 47 14]\n",
      " [39 66 32 28 99]\n",
      " [96 21 22 25 17]\n",
      " [43 48  8 28 96]]\n"
     ]
    }
   ],
   "source": [
    "# 生成特定范围的随机整数数组，均匀分布\n",
    "x = np.random.randint(0,100, (5,5))\n",
    "print(x)"
   ]
  },
  {
   "cell_type": "code",
   "execution_count": 30,
   "metadata": {},
   "outputs": [
    {
     "name": "stdout",
     "output_type": "stream",
     "text": [
      "[[10.51366991 11.00289412 10.29776608]\n",
      " [11.99792611 11.25838457 10.77710431]\n",
      " [11.05610487 11.60018468 10.57852758]]\n"
     ]
    }
   ],
   "source": [
    "# 生成特定范围的随机数组，均匀分布\n",
    "x = np.random.uniform(10,12, (3,3))\n",
    "print(x)"
   ]
  },
  {
   "cell_type": "code",
   "execution_count": 32,
   "metadata": {},
   "outputs": [
    {
     "name": "stdout",
     "output_type": "stream",
     "text": [
      "[[ 0.10229333 -0.72333052  1.29589992]\n",
      " [-1.25948835 -0.34124854 -0.69440162]\n",
      " [-1.43605793 -0.97088001  1.55028354]]\n"
     ]
    }
   ],
   "source": [
    "# 生成标准正态分布\n",
    "x = np.random.randn(3,3)\n",
    "print(x)"
   ]
  },
  {
   "cell_type": "code",
   "execution_count": null,
   "metadata": {},
   "outputs": [],
   "source": [
    "# 生成指定均值和方差的正态分布\n",
    "x = np.random.normal(3,3,(10,10))\n",
    "print(x)"
   ]
  },
  {
   "cell_type": "code",
   "execution_count": 34,
   "metadata": {},
   "outputs": [
    {
     "name": "stdout",
     "output_type": "stream",
     "text": [
      "[2 1 9 0 7 8 6 4 5 3]\n"
     ]
    }
   ],
   "source": [
    "# 打乱数组的元素\n",
    "x = np.arange(0,10,1)\n",
    "np.random.shuffle(x)\n",
    "print(x)"
   ]
  },
  {
   "cell_type": "code",
   "execution_count": 37,
   "metadata": {},
   "outputs": [
    {
     "name": "stdout",
     "output_type": "stream",
     "text": [
      "[7 7]\n"
     ]
    }
   ],
   "source": [
    "# 有放回抽样\n",
    "samples = np.random.choice(x, 2)\n",
    "print(samples)"
   ]
  },
  {
   "cell_type": "code",
   "execution_count": 39,
   "metadata": {},
   "outputs": [
    {
     "name": "stdout",
     "output_type": "stream",
     "text": [
      "[7 1 6 3 9]\n"
     ]
    }
   ],
   "source": [
    "# 无放回抽样\n",
    "samples = np.random.choice(x, 5, replace=False)\n",
    "print(samples)"
   ]
  },
  {
   "cell_type": "markdown",
   "metadata": {},
   "source": [
    "## ndarray的切片"
   ]
  },
  {
   "cell_type": "code",
   "execution_count": 46,
   "metadata": {},
   "outputs": [
    {
     "name": "stdout",
     "output_type": "stream",
     "text": [
      "[[89 86 31 74 13]\n",
      " [25 68 70 69 27]\n",
      " [10 89  8 73 29]\n",
      " [55 35 24 69 87]\n",
      " [58 69 50 13 94]]\n",
      "68\n",
      "[89 25 10 55 58]\n",
      "[[73 29]\n",
      " [69 87]]\n",
      "[[89 74]\n",
      " [55 69]]\n"
     ]
    }
   ],
   "source": [
    "x = np.random.randint(0,100, (5,5))\n",
    "print(x)\n",
    "print(x[1,1])\n",
    "print(x[:,0])\n",
    "print(x[2:4,3:5])\n",
    "print(x[::3,::3])"
   ]
  },
  {
   "cell_type": "markdown",
   "metadata": {},
   "source": [
    "## 花式索引"
   ]
  },
  {
   "cell_type": "code",
   "execution_count": 49,
   "metadata": {},
   "outputs": [
    {
     "name": "stdout",
     "output_type": "stream",
     "text": [
      "[ 0 10 20 30 40 50 60 70 80 90]\n",
      "[10 30 90]\n"
     ]
    }
   ],
   "source": [
    "x = np.arange(0, 100, 10)\n",
    "print(x)\n",
    "indices = [1, 3, -1]\n",
    "print(x[indices])"
   ]
  },
  {
   "cell_type": "markdown",
   "metadata": {},
   "source": [
    "## 布尔索引"
   ]
  },
  {
   "cell_type": "code",
   "execution_count": 58,
   "metadata": {},
   "outputs": [
    {
     "name": "stdout",
     "output_type": "stream",
     "text": [
      "[ 0 10 20 30 40 50 60 70 80 90]\n",
      "[ True False False  True False False  True False  True  True]\n",
      "[ 0 30 60 80 90]\n"
     ]
    }
   ],
   "source": [
    "x = np.arange(0, 100, 10)\n",
    "indices = np.random.choice([True, False], 10)\n",
    "print(x)\n",
    "print(indices)\n",
    "print(x[indices])"
   ]
  },
  {
   "cell_type": "markdown",
   "metadata": {},
   "source": [
    "### 数据筛选"
   ]
  },
  {
   "cell_type": "code",
   "execution_count": 78,
   "metadata": {},
   "outputs": [
    {
     "name": "stdout",
     "output_type": "stream",
     "text": [
      "[ 0 10 20 30 40 50 60 70 80 90]\n",
      "[False False False False False False  True  True  True  True]\n",
      "[60 70 80 90]\n",
      "(array([6, 7, 8, 9], dtype=int64),)\n",
      "(array([4, 5, 6, 7, 8, 9], dtype=int64),)\n"
     ]
    }
   ],
   "source": [
    "x = np.arange(0, 100, 10)\n",
    "indices = x > 50\n",
    "print(x)\n",
    "print(indices)\n",
    "print(x[indices])\n",
    "print(np.where(indices))\n",
    "print(np.where(x > 30))"
   ]
  },
  {
   "cell_type": "code",
   "execution_count": 80,
   "metadata": {},
   "outputs": [
    {
     "name": "stdout",
     "output_type": "stream",
     "text": [
      "[60 70 80]\n"
     ]
    }
   ],
   "source": [
    "x = np.arange(0, 100, 10)\n",
    "indices =  (x > 50) & (x < 90)\n",
    "print(x[indices])"
   ]
  },
  {
   "cell_type": "markdown",
   "metadata": {},
   "source": [
    "## 数据转换"
   ]
  },
  {
   "cell_type": "markdown",
   "metadata": {},
   "source": [
    "### 数据类型转换"
   ]
  },
  {
   "cell_type": "code",
   "execution_count": 68,
   "metadata": {},
   "outputs": [
    {
     "name": "stdout",
     "output_type": "stream",
     "text": [
      "['1' '2']\n",
      "<U1\n",
      "[1. 2.]\n",
      "float64\n"
     ]
    }
   ],
   "source": [
    "x = ['1', '2']\n",
    "x = np.array(x)\n",
    "print(x)\n",
    "print(x.dtype)\n",
    "x = x.astype('float')\n",
    "print(x)\n",
    "print(x.dtype)"
   ]
  },
  {
   "cell_type": "markdown",
   "metadata": {},
   "source": [
    "### 数据形状变换"
   ]
  },
  {
   "cell_type": "code",
   "execution_count": 69,
   "metadata": {},
   "outputs": [
    {
     "name": "stdout",
     "output_type": "stream",
     "text": [
      "[0 1 2 3 4 5 6 7 8 9]\n",
      "(10,)\n",
      "[[0 1 2 3 4]\n",
      " [5 6 7 8 9]]\n",
      "(2, 5)\n"
     ]
    }
   ],
   "source": [
    "x = np.arange(0,10,1)\n",
    "print(x)\n",
    "print(x.shape)\n",
    "x = x.reshape(2,5)\n",
    "print(x)\n",
    "print(x.shape)"
   ]
  },
  {
   "cell_type": "code",
   "execution_count": 71,
   "metadata": {},
   "outputs": [
    {
     "name": "stdout",
     "output_type": "stream",
     "text": [
      "[0 1 2 3 4 5 6 7 8 9]\n",
      "(10,)\n",
      "[[0 1 2 3 4 5 6 7 8 9]]\n",
      "(1, 10)\n"
     ]
    }
   ],
   "source": [
    "x = np.arange(0,10,1)\n",
    "print(x)\n",
    "print(x.shape)\n",
    "x = x.reshape(-1, len(x))\n",
    "print(x)\n",
    "print(x.shape)"
   ]
  },
  {
   "cell_type": "code",
   "execution_count": 74,
   "metadata": {},
   "outputs": [
    {
     "name": "stdout",
     "output_type": "stream",
     "text": [
      "[ 0  1  2  3  4  5  6  7  8  9 10 11 12 13 14 15 16 17 18 19]\n",
      "(20,)\n",
      "[[ 0  1  2  3  4]\n",
      " [ 5  6  7  8  9]\n",
      " [10 11 12 13 14]\n",
      " [15 16 17 18 19]]\n",
      "(4, 5)\n"
     ]
    }
   ],
   "source": [
    "x = np.arange(0, 20, 1)\n",
    "print(x)\n",
    "print(x.shape)\n",
    "x = x.reshape(-1, 5)\n",
    "print(x)\n",
    "print(x.shape)"
   ]
  },
  {
   "cell_type": "markdown",
   "metadata": {},
   "source": [
    "## 基础向量化运算"
   ]
  },
  {
   "cell_type": "code",
   "execution_count": 81,
   "metadata": {},
   "outputs": [
    {
     "name": "stdout",
     "output_type": "stream",
     "text": [
      "[4 3 4]\n"
     ]
    }
   ],
   "source": [
    "x = np.array([1,2,3])\n",
    "y = np.array([3,1,1])\n",
    "z = x+y\n",
    "print(z)"
   ]
  },
  {
   "cell_type": "code",
   "execution_count": 82,
   "metadata": {},
   "outputs": [
    {
     "name": "stdout",
     "output_type": "stream",
     "text": [
      "[3 2 3]\n"
     ]
    }
   ],
   "source": [
    "z = x*y\n",
    "print(z)"
   ]
  },
  {
   "cell_type": "code",
   "execution_count": 83,
   "metadata": {},
   "outputs": [
    {
     "name": "stdout",
     "output_type": "stream",
     "text": [
      "[4 3 4]\n",
      "[-2  1  2]\n",
      "[3 2 3]\n",
      "[0.33333333 2.         3.        ]\n",
      "[1 4 9]\n",
      "[False  True  True]\n",
      "[ True False False]\n"
     ]
    }
   ],
   "source": [
    "print(x+y)\n",
    "print(x-y)\n",
    "print(x*y)\n",
    "print(x/y)\n",
    "print(x**2)\n",
    "print(x>y)\n",
    "print(x<y)"
   ]
  },
  {
   "cell_type": "markdown",
   "metadata": {},
   "source": [
    "## 向量化运算的函数 "
   ]
  },
  {
   "cell_type": "code",
   "execution_count": null,
   "metadata": {},
   "outputs": [],
   "source": [
    "x = np.random.randint(0,10,10)\n",
    "print(x)\n",
    "print(np.max(x))\n",
    "print(np.min(x))\n",
    "print(np.argmax(x))\n",
    "print(np.argmin(x))\n",
    "print(np.median(x))\n",
    "print(np.mean(x))\n",
    "print(np.var(x))\n",
    "print(np.std(x))\n",
    "print(np.sort(x))\n",
    "print(np.sum(x))\n",
    "print(np.sin(x))\n",
    "print(np.exp(x))\n",
    "print(np.sqrt(x))"
   ]
  },
  {
   "cell_type": "markdown",
   "metadata": {},
   "source": [
    "可参考官方介绍，不一一介绍。https://numpy.org.cn/user/quickstart.html#%E9%80%9A%E5%87%BD%E6%95%B0"
   ]
  },
  {
   "cell_type": "markdown",
   "metadata": {},
   "source": [
    "## 线性代数"
   ]
  },
  {
   "cell_type": "markdown",
   "metadata": {},
   "source": [
    "### 内积运算 $z = \\vec{x}*\\vec{y} = x^T y= \\sum_{i=1}^n x_i*y_i$"
   ]
  },
  {
   "cell_type": "code",
   "execution_count": 89,
   "metadata": {},
   "outputs": [
    {
     "name": "stdout",
     "output_type": "stream",
     "text": [
      "8\n"
     ]
    }
   ],
   "source": [
    "x = np.array([1,2,3])\n",
    "y = np.array([3,1,1])\n",
    "z = x.dot(y)\n",
    "print(z)"
   ]
  },
  {
   "cell_type": "markdown",
   "metadata": {},
   "source": [
    "### 模长 $scale = ||x|| = \\sqrt{\\sum_{i=1}^n x_i^2} = \\sqrt{\\vec{x}*\\vec{x}}$"
   ]
  },
  {
   "cell_type": "code",
   "execution_count": 88,
   "metadata": {},
   "outputs": [
    {
     "name": "stdout",
     "output_type": "stream",
     "text": [
      "3.7416573867739413\n"
     ]
    }
   ],
   "source": [
    "scale = np.sqrt(np.sum(x**2))\n",
    "print(scale)"
   ]
  },
  {
   "cell_type": "markdown",
   "metadata": {},
   "source": [
    "### 余弦 $cos \\theta = \\frac{\\vec{x}*\\vec{y}}{||x|| ||y||}$"
   ]
  },
  {
   "cell_type": "code",
   "execution_count": 90,
   "metadata": {},
   "outputs": [
    {
     "name": "stdout",
     "output_type": "stream",
     "text": [
      "0.6446583712203042\n"
     ]
    }
   ],
   "source": [
    "cosine = x.dot(y) / (np.sqrt(np.sum(x**2)) * np.sqrt(np.sum(y**2)))\n",
    "print(cosine)"
   ]
  },
  {
   "cell_type": "markdown",
   "metadata": {},
   "source": [
    "### 叉积 $z = \\vec{x} \\times \\vec{y} = (x_1i+x_2j+x_3k) \\times (y_1i+y_2j+y_3k)$"
   ]
  },
  {
   "cell_type": "code",
   "execution_count": 92,
   "metadata": {},
   "outputs": [
    {
     "name": "stdout",
     "output_type": "stream",
     "text": [
      "[-1  8 -5]\n"
     ]
    }
   ],
   "source": [
    "z = np.cross(x,y)\n",
    "print(z)"
   ]
  },
  {
   "cell_type": "markdown",
   "metadata": {},
   "source": [
    "### 外积 $z =\\vec{x}\\otimes\\vec{y}  = xy^T$"
   ]
  },
  {
   "cell_type": "code",
   "execution_count": 94,
   "metadata": {},
   "outputs": [
    {
     "name": "stdout",
     "output_type": "stream",
     "text": [
      "[[3 1 1]\n",
      " [6 2 2]\n",
      " [9 3 3]]\n"
     ]
    }
   ],
   "source": [
    "z = np.outer(x,y)\n",
    "print(z)"
   ]
  },
  {
   "cell_type": "markdown",
   "metadata": {},
   "source": [
    "### 矩阵乘法"
   ]
  },
  {
   "cell_type": "markdown",
   "metadata": {},
   "source": [
    "$A x=\\left[\\begin{array}{ll}a_{11} & a_{12} \\\\ a_{21} & a_{22}\\end{array}\\right] \\cdot\\left[\\begin{array}{l}x_1 \\\\ x_2\\end{array}\\right]=\\left[\\begin{array}{l}a_{11} x_1+a_{12} x_2 \\\\ a_{21} x_1+a_{22} x_2\\end{array}\\right]$"
   ]
  },
  {
   "cell_type": "markdown",
   "metadata": {},
   "source": [
    "$C=A \\cdot B=\\left[\\begin{array}{ll}a_{11} & a_{12} \\\\ a_{21} & a_{22}\\end{array}\\right] \\cdot\\left[\\begin{array}{ll}b_{11} & b_{12} \\\\ b_{21} & b_{22}\\end{array}\\right]=\\left[\\begin{array}{ll}a_{11} b_{11}+a_{12} b_{21} & a_{11} b_{12}+a_{12} b_{22} \\\\ a_{21} b_{11}+a_{22} b_{21} & a_{21} b_{12}+a_{22} b_{22}\\end{array}\\right]$"
   ]
  },
  {
   "cell_type": "code",
   "execution_count": 96,
   "metadata": {},
   "outputs": [
    {
     "name": "stdout",
     "output_type": "stream",
     "text": [
      "[3 2]\n",
      "[[5 3]\n",
      " [3 2]]\n"
     ]
    }
   ],
   "source": [
    "A = np.array([[1,2],[1,1]])\n",
    "B = np.array([[1,1],[2,1]])\n",
    "x = np.array([1,1])\n",
    "print(A.dot(x))\n",
    "print(A.dot(B))"
   ]
  },
  {
   "cell_type": "code",
   "execution_count": 97,
   "metadata": {},
   "outputs": [
    {
     "name": "stdout",
     "output_type": "stream",
     "text": [
      "[[1 2]\n",
      " [2 1]]\n"
     ]
    }
   ],
   "source": [
    "print(A*B)"
   ]
  },
  {
   "cell_type": "markdown",
   "metadata": {},
   "source": [
    "其他线性代数操作，请查询官网或其他教程"
   ]
  },
  {
   "cell_type": "markdown",
   "metadata": {},
   "source": [
    "## 广播"
   ]
  },
  {
   "cell_type": "code",
   "execution_count": 98,
   "metadata": {},
   "outputs": [
    {
     "name": "stdout",
     "output_type": "stream",
     "text": [
      "[2 3]\n"
     ]
    }
   ],
   "source": [
    "x = np.array([1,2])\n",
    "print(x+1)"
   ]
  },
  {
   "cell_type": "code",
   "execution_count": 99,
   "metadata": {},
   "outputs": [
    {
     "name": "stdout",
     "output_type": "stream",
     "text": [
      "[[2 3]\n",
      " [3 3]]\n"
     ]
    }
   ],
   "source": [
    "x = np.array([[1,2],[2,2]])\n",
    "y = np.array([1,1])\n",
    "print(x+y)"
   ]
  },
  {
   "cell_type": "markdown",
   "metadata": {},
   "source": [
    "Numpy广播机制 https://zhuanlan.zhihu.com/p/353987442"
   ]
  }
 ],
 "metadata": {
  "kernelspec": {
   "display_name": "Python 3.9.12 ('base')",
   "language": "python",
   "name": "python3"
  },
  "language_info": {
   "codemirror_mode": {
    "name": "ipython",
    "version": 3
   },
   "file_extension": ".py",
   "mimetype": "text/x-python",
   "name": "python",
   "nbconvert_exporter": "python",
   "pygments_lexer": "ipython3",
   "version": "3.9.12"
  },
  "orig_nbformat": 4,
  "vscode": {
   "interpreter": {
    "hash": "ad2bdc8ecc057115af97d19610ffacc2b4e99fae6737bb82f5d7fb13d2f2c186"
   }
  }
 },
 "nbformat": 4,
 "nbformat_minor": 2
}
