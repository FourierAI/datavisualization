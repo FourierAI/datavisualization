{
 "cells": [
  {
   "cell_type": "code",
   "execution_count": 1,
   "id": "d9439160",
   "metadata": {},
   "outputs": [
    {
     "data": {
      "text/plain": [
       "['continue.png',\n",
       " 'danmu_12-1-13.csv',\n",
       " 'discret.png',\n",
       " 'example.ipynb',\n",
       " 'score.ipynb',\n",
       " 'score_box.png',\n",
       " 'score_hist.png',\n",
       " 'stopwords-master',\n",
       " 'wordcloud.jpg',\n",
       " '成绩汇总20计算机1班.xlsx',\n",
       " '成绩汇总20计算机2班.xlsx',\n",
       " '成绩汇总20软件1班.xlsx']"
      ]
     },
     "execution_count": 1,
     "metadata": {},
     "output_type": "execute_result"
    }
   ],
   "source": [
    "import pandas as pd\n",
    "import os\n",
    "os.listdir()"
   ]
  },
  {
   "cell_type": "markdown",
   "id": "24cf1e40",
   "metadata": {},
   "source": [
    "## 数据获取与导入"
   ]
  },
  {
   "cell_type": "code",
   "execution_count": 2,
   "id": "ab159bf5",
   "metadata": {},
   "outputs": [
    {
     "data": {
      "text/html": [
       "<div>\n",
       "<style scoped>\n",
       "    .dataframe tbody tr th:only-of-type {\n",
       "        vertical-align: middle;\n",
       "    }\n",
       "\n",
       "    .dataframe tbody tr th {\n",
       "        vertical-align: top;\n",
       "    }\n",
       "\n",
       "    .dataframe thead th {\n",
       "        text-align: right;\n",
       "    }\n",
       "</style>\n",
       "<table border=\"1\" class=\"dataframe\">\n",
       "  <thead>\n",
       "    <tr style=\"text-align: right;\">\n",
       "      <th></th>\n",
       "      <th>软件1班</th>\n",
       "      <th>软件一班</th>\n",
       "      <th>Unnamed: 2</th>\n",
       "      <th>Unnamed: 3</th>\n",
       "      <th>Unnamed: 4</th>\n",
       "      <th>Unnamed: 5</th>\n",
       "      <th>Unnamed: 6</th>\n",
       "      <th>Unnamed: 7</th>\n",
       "      <th>Unnamed: 8</th>\n",
       "      <th>Unnamed: 9</th>\n",
       "      <th>Unnamed: 10</th>\n",
       "      <th>Unnamed: 11</th>\n",
       "      <th>Unnamed: 12</th>\n",
       "      <th>Unnamed: 13</th>\n",
       "    </tr>\n",
       "  </thead>\n",
       "  <tbody>\n",
       "    <tr>\n",
       "      <th>0</th>\n",
       "      <td>序号</td>\n",
       "      <td>学号</td>\n",
       "      <td>姓名</td>\n",
       "      <td>lab01</td>\n",
       "      <td>lab02</td>\n",
       "      <td>lab03</td>\n",
       "      <td>lab04</td>\n",
       "      <td>lab05</td>\n",
       "      <td>总分</td>\n",
       "      <td>平均分</td>\n",
       "      <td>最终成绩</td>\n",
       "      <td>NaN</td>\n",
       "      <td>NaN</td>\n",
       "      <td>NaN</td>\n",
       "    </tr>\n",
       "    <tr>\n",
       "      <th>1</th>\n",
       "      <td>1</td>\n",
       "      <td>2009200101</td>\n",
       "      <td>陈迪</td>\n",
       "      <td>77</td>\n",
       "      <td>60</td>\n",
       "      <td>66</td>\n",
       "      <td>60</td>\n",
       "      <td>60</td>\n",
       "      <td>323</td>\n",
       "      <td>64.6</td>\n",
       "      <td>74.6</td>\n",
       "      <td>NaN</td>\n",
       "      <td>NaN</td>\n",
       "      <td>NaN</td>\n",
       "    </tr>\n",
       "    <tr>\n",
       "      <th>2</th>\n",
       "      <td>2</td>\n",
       "      <td>2009200102</td>\n",
       "      <td>冯稚然</td>\n",
       "      <td>81</td>\n",
       "      <td>69</td>\n",
       "      <td>79</td>\n",
       "      <td>73</td>\n",
       "      <td>71</td>\n",
       "      <td>373</td>\n",
       "      <td>74.6</td>\n",
       "      <td>84.6</td>\n",
       "      <td>NaN</td>\n",
       "      <td>NaN</td>\n",
       "      <td>NaN</td>\n",
       "    </tr>\n",
       "    <tr>\n",
       "      <th>3</th>\n",
       "      <td>3</td>\n",
       "      <td>2009200103</td>\n",
       "      <td>顾宇蒙</td>\n",
       "      <td>77</td>\n",
       "      <td>62</td>\n",
       "      <td>78</td>\n",
       "      <td>65</td>\n",
       "      <td>64</td>\n",
       "      <td>346</td>\n",
       "      <td>69.2</td>\n",
       "      <td>79.2</td>\n",
       "      <td>NaN</td>\n",
       "      <td>NaN</td>\n",
       "      <td>NaN</td>\n",
       "    </tr>\n",
       "    <tr>\n",
       "      <th>4</th>\n",
       "      <td>4</td>\n",
       "      <td>2009200104</td>\n",
       "      <td>黄睿</td>\n",
       "      <td>60</td>\n",
       "      <td>63</td>\n",
       "      <td>80</td>\n",
       "      <td>58</td>\n",
       "      <td>68</td>\n",
       "      <td>329</td>\n",
       "      <td>65.8</td>\n",
       "      <td>75.8</td>\n",
       "      <td>NaN</td>\n",
       "      <td>NaN</td>\n",
       "      <td>NaN</td>\n",
       "    </tr>\n",
       "  </tbody>\n",
       "</table>\n",
       "</div>"
      ],
      "text/plain": [
       "  软件1班        软件一班 Unnamed: 2 Unnamed: 3 Unnamed: 4 Unnamed: 5 Unnamed: 6  \\\n",
       "0   序号          学号         姓名      lab01      lab02      lab03      lab04   \n",
       "1    1  2009200101         陈迪         77         60         66         60   \n",
       "2    2  2009200102        冯稚然         81         69         79         73   \n",
       "3    3  2009200103        顾宇蒙         77         62         78         65   \n",
       "4    4  2009200104         黄睿         60         63         80         58   \n",
       "\n",
       "  Unnamed: 7 Unnamed: 8 Unnamed: 9 Unnamed: 10  Unnamed: 11  Unnamed: 12  \\\n",
       "0      lab05         总分        平均分        最终成绩          NaN          NaN   \n",
       "1         60        323       64.6        74.6          NaN          NaN   \n",
       "2         71        373       74.6        84.6          NaN          NaN   \n",
       "3         64        346       69.2        79.2          NaN          NaN   \n",
       "4         68        329       65.8        75.8          NaN          NaN   \n",
       "\n",
       "  Unnamed: 13  \n",
       "0         NaN  \n",
       "1         NaN  \n",
       "2         NaN  \n",
       "3         NaN  \n",
       "4         NaN  "
      ]
     },
     "execution_count": 2,
     "metadata": {},
     "output_type": "execute_result"
    }
   ],
   "source": [
    "score1 = pd.read_excel(\"成绩汇总20计算机1班.xlsx\")\n",
    "score2 = pd.read_excel(\"成绩汇总20计算机2班.xlsx\")\n",
    "score3 = pd.read_excel(\"成绩汇总20软件1班.xlsx\")\n",
    "score3.head()"
   ]
  },
  {
   "cell_type": "markdown",
   "id": "196356d7",
   "metadata": {},
   "source": [
    "## 数据预处理"
   ]
  },
  {
   "cell_type": "code",
   "execution_count": 3,
   "id": "110da41f",
   "metadata": {},
   "outputs": [],
   "source": [
    "score1 = score1.loc[:,['计算机1班','Unnamed: 1','Unnamed: 2','Unnamed: 10']].dropna(axis = 0, how ='any')\n",
    "score2 = score2.loc[:,['计算机2班','Unnamed: 1','Unnamed: 2','Unnamed: 13']].dropna(axis = 0, how ='any')\n",
    "score3 = score3.loc[:,['软件1班','软件一班','Unnamed: 2','Unnamed: 10']].dropna(axis = 0, how ='any')"
   ]
  },
  {
   "cell_type": "code",
   "execution_count": 4,
   "id": "3bf362d1",
   "metadata": {},
   "outputs": [],
   "source": [
    "score1.columns = ['序号', '学号', '姓名', '成绩']\n",
    "score2.columns = ['序号', '学号', '姓名', '成绩']\n",
    "score3.columns = ['序号', '学号', '姓名', '成绩']\n",
    "\n",
    "score1 = score1.drop([0])\n",
    "score2 = score2.drop([0])\n",
    "score3 = score3.drop([0])"
   ]
  },
  {
   "cell_type": "code",
   "execution_count": 5,
   "id": "bf99a741",
   "metadata": {},
   "outputs": [],
   "source": [
    "score1_ = score1.loc[:,[\"成绩\"]].astype(\"float\")\n",
    "score2_ = score2.loc[:,[\"成绩\"]].astype(\"float\")\n",
    "score3_ = score3.loc[:,[\"成绩\"]].astype(\"float\")"
   ]
  },
  {
   "cell_type": "markdown",
   "id": "f76eb090",
   "metadata": {},
   "source": [
    "## 数据可视化"
   ]
  },
  {
   "cell_type": "markdown",
   "id": "98114348",
   "metadata": {},
   "source": [
    "### 三个班各自的成绩分布情况"
   ]
  },
  {
   "cell_type": "code",
   "execution_count": 22,
   "id": "f4b6db25",
   "metadata": {},
   "outputs": [
    {
     "data": {
      "image/png": "[encoded data removed]",
      "text/plain": [
       "<Figure size 432x288 with 1 Axes>"
      ]
     },
     "metadata": {
      "needs_background": "light"
     },
     "output_type": "display_data"
    }
   ],
   "source": [
    "import matplotlib.pyplot as plt\n",
    "import matplotlib\n",
    "matplotlib.rcParams['font.sans-serif'] = ['KaiTi']\n",
    "\n",
    "plt.hist(score1_, len(score1_)//2)\n",
    "plt.grid()\n",
    "plt.title(\"计算机一班数字图像处理成绩分布\")\n",
    "plt.show()"
   ]
  },
  {
   "cell_type": "code",
   "execution_count": 7,
   "id": "9a6bf4b4",
   "metadata": {},
   "outputs": [
    {
     "data": {
      "text/plain": [
       "成绩    9\n",
       "dtype: int64"
      ]
     },
     "execution_count": 7,
     "metadata": {},
     "output_type": "execute_result"
    }
   ],
   "source": [
    "score1_[(score1_ >79.5) & (score1_<81)].count()"
   ]
  },
  {
   "cell_type": "code",
   "execution_count": 8,
   "id": "42f0f076",
   "metadata": {},
   "outputs": [
    {
     "data": {
      "image/png": "[encoded data removed]",
      "text/plain": [
       "<Figure size 432x288 with 1 Axes>"
      ]
     },
     "metadata": {
      "needs_background": "light"
     },
     "output_type": "display_data"
    }
   ],
   "source": [
    "plt.hist(score2_, len(score2_)//2)\n",
    "plt.grid()\n",
    "plt.title('计算机二班数字图像处理成绩分布')\n",
    "plt.show()"
   ]
  },
  {
   "cell_type": "code",
   "execution_count": 9,
   "id": "083f1dab",
   "metadata": {},
   "outputs": [
    {
     "data": {
      "image/png": "[encoded data removed]",
      "text/plain": [
       "<Figure size 432x288 with 1 Axes>"
      ]
     },
     "metadata": {
      "needs_background": "light"
     },
     "output_type": "display_data"
    }
   ],
   "source": [
    "plt.hist(score3_, len(score3_)//2)\n",
    "plt.grid()\n",
    "plt.title('软件一班数字图像处理成绩分布')\n",
    "plt.show()"
   ]
  },
  {
   "cell_type": "markdown",
   "id": "d5ebdd07",
   "metadata": {},
   "source": [
    "## 数据分析"
   ]
  },
  {
   "cell_type": "markdown",
   "id": "19275904",
   "metadata": {},
   "source": [
    "### 哪个班成绩最好？"
   ]
  },
  {
   "cell_type": "code",
   "execution_count": 10,
   "id": "d8f764a7",
   "metadata": {},
   "outputs": [
    {
     "data": {
      "image/png": "[encoded data removed]",
      "text/plain": [
       "<Figure size 432x288 with 3 Axes>"
      ]
     },
     "metadata": {
      "needs_background": "light"
     },
     "output_type": "display_data"
    }
   ],
   "source": [
    "plt.figure()\n",
    "plt.subplot(3,1,1)\n",
    "plt.xlim(55, 100)\n",
    "plt.ylim((0, 0.25))\n",
    "plt.xlabel(\"分数\")\n",
    "plt.ylabel(\"频率密度\")\n",
    "plt.hist(score1_, 50, density=True)\n",
    "plt.grid()\n",
    "plt.title(\"计算机一班数字图像处理成绩分布\")\n",
    "plt.subplot(3,1,2)\n",
    "plt.xlim(55, 100)\n",
    "plt.ylim((0, 0.25))\n",
    "plt.xlabel(\"分数\")\n",
    "plt.ylabel(\"频率密度\")\n",
    "plt.hist(score2_, 50, density=True)\n",
    "plt.grid()\n",
    "plt.title(\"计算机二班数字图像处理成绩分布\")\n",
    "plt.subplot(3,1,3)\n",
    "plt.xlim(55, 100)\n",
    "plt.ylim((0, 0.25))\n",
    "plt.xlabel(\"分数\")\n",
    "plt.ylabel(\"频率密度\")\n",
    "plt.hist(score3_, 50, density=True)\n",
    "plt.grid()\n",
    "plt.title(\"软件一班数字图像处理成绩分布\")\n",
    "#减少子图堆叠现象\n",
    "plt.tight_layout()\n",
    "plt.savefig(\"score_hist\")\n",
    "plt.show()"
   ]
  },
  {
   "cell_type": "markdown",
   "id": "012125e2",
   "metadata": {},
   "source": [
    "### 统计指标比较"
   ]
  },
  {
   "cell_type": "markdown",
   "id": "4f19fd92",
   "metadata": {},
   "source": [
    "#### 均值 $\\bar{X} = \\frac{1}{n}\\sum X_{i}$"
   ]
  },
  {
   "cell_type": "code",
   "execution_count": 11,
   "id": "cf8f04aa",
   "metadata": {},
   "outputs": [
    {
     "name": "stdout",
     "output_type": "stream",
     "text": [
      "计算机一班均分：79.2896551724138;\n",
      "计算机二班均分：81.6896551724138;\n",
      "软件一班均分：81.47058823529412.\n"
     ]
    }
   ],
   "source": [
    "import numpy as np\n",
    "score1_mean = np.asarray(score1_).mean()\n",
    "score2_mean = np.asarray(score2_).mean()\n",
    "score3_mean = np.asarray(score3_).mean()\n",
    "print(f\"计算机一班均分：{score1_mean};\\n计算机二班均分：{score2_mean};\\n软件一班均分：{score3_mean}.\")"
   ]
  },
  {
   "cell_type": "markdown",
   "id": "3ad79f01",
   "metadata": {},
   "source": [
    "#### 方差 $\\sigma ^2 = \\frac{1}{n} \\sum (X - \\bar{X})^2 $"
   ]
  },
  {
   "cell_type": "code",
   "execution_count": 12,
   "id": "6c1009f8",
   "metadata": {},
   "outputs": [],
   "source": [
    "score1_variance = np.sum((score1_-score1_mean)**2)/len(score1_)\n",
    "score2_variance = np.sum((score2_-score2_mean)**2)/len(score2_)\n",
    "score3_variance = np.sum((score3_-score3_mean)**2)/len(score3_)"
   ]
  },
  {
   "cell_type": "code",
   "execution_count": 13,
   "id": "0b311d7b",
   "metadata": {},
   "outputs": [
    {
     "name": "stdout",
     "output_type": "stream",
     "text": [
      "计算机一班方差：成绩    20.729893\n",
      "dtype: float64;\n",
      "计算机二班方差：成绩    16.338169\n",
      "dtype: float64;\n",
      "软件一班方差：成绩    30.039723\n",
      "dtype: float64.\n"
     ]
    }
   ],
   "source": [
    "print(f\"计算机一班方差：{score1_variance};\\n计算机二班方差：{score2_variance};\\n软件一班方差：{score3_variance}.\")"
   ]
  },
  {
   "cell_type": "markdown",
   "id": "c0c59edb",
   "metadata": {},
   "source": [
    "#### 标准差 $\\sigma$"
   ]
  },
  {
   "cell_type": "code",
   "execution_count": 14,
   "id": "18504f67",
   "metadata": {},
   "outputs": [
    {
     "name": "stdout",
     "output_type": "stream",
     "text": [
      "计算机一班标准差：成绩    4.553009\n",
      "dtype: float64;\n",
      "计算机二班标准差：成绩    4.04205\n",
      "dtype: float64;\n",
      "软件一班标准差：成绩    5.480851\n",
      "dtype: float64.\n"
     ]
    }
   ],
   "source": [
    "score1_sd = np.sqrt(score1_variance)\n",
    "score2_sd = np.sqrt(score2_variance)\n",
    "score3_sd = np.sqrt(score3_variance)\n",
    "print(f\"计算机一班标准差：{score1_sd};\\n计算机二班标准差：{score2_sd};\\n软件一班标准差：{score3_sd}.\")"
   ]
  },
  {
   "cell_type": "markdown",
   "id": "b2f8b2e3",
   "metadata": {},
   "source": [
    "#### 中位数"
   ]
  },
  {
   "cell_type": "code",
   "execution_count": 15,
   "id": "a41f3fdd",
   "metadata": {},
   "outputs": [
    {
     "name": "stdout",
     "output_type": "stream",
     "text": [
      "计算机一班中位数：成绩    79.2\n",
      "dtype: float64;\n",
      "计算机二班中位数：成绩    81.6\n",
      "dtype: float64;\n",
      "软件一班中位数：成绩    81.8\n",
      "dtype: float64.\n"
     ]
    }
   ],
   "source": [
    "score1_median = score1_.median()\n",
    "score2_median = score2_.median()\n",
    "score3_median = score3_.median()\n",
    "print(f\"计算机一班中位数：{score1_median};\\n计算机二班中位数：{score2_median};\\n软件一班中位数：{score3_median}.\")"
   ]
  },
  {
   "cell_type": "markdown",
   "id": "50f86c3a",
   "metadata": {},
   "source": [
    "### 箱线图"
   ]
  },
  {
   "cell_type": "code",
   "execution_count": 16,
   "id": "fe3f8ffb",
   "metadata": {},
   "outputs": [],
   "source": [
    "score1_ = np.asarray(score1_).squeeze()\n",
    "score2_ = np.asarray(score2_).squeeze()\n",
    "score3_ = np.asarray(score3_).squeeze()"
   ]
  },
  {
   "cell_type": "code",
   "execution_count": 17,
   "id": "ad46499e",
   "metadata": {},
   "outputs": [
    {
     "data": {
      "image/png": "[encoded data removed]",
      "text/plain": [
       "<Figure size 432x288 with 1 Axes>"
      ]
     },
     "metadata": {
      "needs_background": "light"
     },
     "output_type": "display_data"
    }
   ],
   "source": [
    "import seaborn as sns\n",
    "\n",
    "plt.figure()\n",
    "plt.title(\"分数箱线图\")\n",
    "labels = [\"计算机一班\",\"计算机二班\",\"软件一班\"]\n",
    "plt.grid()\n",
    "plt.boxplot([score1_, score2_, score3_], labels=labels)\n",
    "plt.savefig(\"score_box\")\n",
    "plt.show()"
   ]
  },
  {
   "cell_type": "code",
   "execution_count": null,
   "id": "92d119b0",
   "metadata": {},
   "outputs": [],
   "source": []
  }
 ],
 "metadata": {
  "kernelspec": {
   "display_name": "Python 3.9.12 ('base')",
   "language": "python",
   "name": "python3"
  },
  "language_info": {
   "codemirror_mode": {
    "name": "ipython",
    "version": 3
   },
   "file_extension": ".py",
   "mimetype": "text/x-python",
   "name": "python",
   "nbconvert_exporter": "python",
   "pygments_lexer": "ipython3",
   "version": "3.9.12"
  },
  "vscode": {
   "interpreter": {
    "hash": "ad2bdc8ecc057115af97d19610ffacc2b4e99fae6737bb82f5d7fb13d2f2c186"
   }
  }
 },
 "nbformat": 4,
 "nbformat_minor": 5
}
